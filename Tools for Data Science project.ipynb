{
 "cells": [
  {
   "cell_type": "markdown",
   "id": "03ddd5d1-e7c0-4b20-9b77-0b815d5d2706",
   "metadata": {},
   "source": [
    "# My Jupyter Notebook on IBM Watson Studio"
   ]
  },
  {
   "cell_type": "markdown",
   "id": "6f9fe429-4454-45f5-a755-ae206b08b1a3",
   "metadata": {},
   "source": [
    "**Karl Boggs**  \n",
    "Data Scientist "
   ]
  },
  {
   "cell_type": "markdown",
   "id": "b5911baf-b0f9-4821-8b35-9b235ce4961c",
   "metadata": {},
   "source": [
    "*I am interested in data science as a way of uncovering patterns in varied data sets and using tools to create engaging explanations of phenomena. I hope that I'll be able to leverage my background as a chemical/materials engineer.*"
   ]
  },
  {
   "cell_type": "markdown",
   "id": "a63faaeb-4fb5-430f-8e81-14fc132c1ac2",
   "metadata": {},
   "source": [
    "### My code is to show a Fibonacci sequence"
   ]
  },
  {
   "cell_type": "code",
   "execution_count": 20,
   "id": "4bc86b5b-8aca-4fdd-ab00-3b244ff86c2b",
   "metadata": {},
   "outputs": [
    {
     "name": "stdout",
     "output_type": "stream",
     "text": [
      "1 :  1\n",
      "2 :  2\n",
      "3 :  3\n",
      "4 :  5\n",
      "5 :  8\n",
      "6 :  13\n",
      "7 :  21\n",
      "8 :  34\n",
      "9 :  55\n",
      "10 :  89\n"
     ]
    }
   ],
   "source": [
    "def fibonacci(n):\n",
    "    #this calculates the nth term in the sequence\n",
    "    a=0\n",
    "    b=1\n",
    "    for count in range(n+1):\n",
    "        n = a+b\n",
    "        a=b\n",
    "        b=n\n",
    "    return(n)\n",
    "\n",
    "# use the function to calculate the first 10 in the sequence (yes I could have done this without the function)\n",
    "for i in range(10):\n",
    "    print(i+1,': ',fibonacci(i))"
   ]
  },
  {
   "cell_type": "markdown",
   "id": "f91402d1-27fd-432f-8498-a1fd6def2a3b",
   "metadata": {},
   "source": [
    "___\n",
    "##### Working with Markdown:\n",
    "\n",
    "+ this\n",
    "+ is a\n",
    "+ bulleted list\n",
    "\n",
    "1. this\n",
    "2. is a\n",
    "3. numbered list\n",
    "\n",
    "| color | season | month |\n",
    "| ----- | ------ | ----- |\n",
    "| red | fall | October |\n",
    "| green | spring | April |\n",
    "| blue | winter | January |\n",
    "| yellow | summer | July |\n",
    "\n",
    "[Here is the hyperlink to the Markup cheat sheet](https://github.com/adam-p/markdown-here/wiki/Markdown-Cheatsheet)\n",
    "\n",
    "Python Logo:  \n",
    "![alt text](https://encrypted-tbn0.gstatic.com/images?q=tbn:ANd9GcRyhT_zpUviZWlen__Eotl_-dAwASykcnueiCIeiFbBwberAteFeRRUOaoVqm9d8earbZM&usqp=CAU)\n",
    "\n",
    "Example code block:\n",
    "```\n",
    "for count in range(n+1):\n",
    "    n = a+b\n",
    "    a=b\n",
    "    b=n\n",
    "return(n)  \n",
    "```\n",
    "\n",
    "> here is a simple block quote with junk filler    \n",
    ">Lorem ipsum dolor sit amet, consectetur adipiscing elit, sed do eiusmod tempor incididunt ut labore et dolore magna aliqua. Ut enim ad minim veniam, quis nostrud exercitation ullamco laboris nisi ut aliquip ex ea commodo consequat. Duis aute irure dolor in reprehenderit in voluptate velit esse cillum dolore eu fugiat nulla pariatur. Excepteur sint occaecat cupidatat non proident, sunt in culpa qui officia deserunt mollit anim id est laborum.\n",
    "\n",
    "~~strikethrough~~"
   ]
  },
  {
   "cell_type": "code",
   "execution_count": null,
   "id": "df6eb04f-b798-4a17-8560-6ef2f9461309",
   "metadata": {},
   "outputs": [],
   "source": []
  }
 ],
 "metadata": {
  "kernelspec": {
   "display_name": "Python 3 (ipykernel)",
   "language": "python",
   "name": "python3"
  },
  "language_info": {
   "codemirror_mode": {
    "name": "ipython",
    "version": 3
   },
   "file_extension": ".py",
   "mimetype": "text/x-python",
   "name": "python",
   "nbconvert_exporter": "python",
   "pygments_lexer": "ipython3",
   "version": "3.9.12"
  }
 },
 "nbformat": 4,
 "nbformat_minor": 5
}
