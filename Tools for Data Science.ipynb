{
    "cells": [
        {
            "cell_type": "markdown",
            "metadata": {},
            "source": "# My Jupyter Notebook on IBM Watson Studio"
        },
        {
            "cell_type": "markdown",
            "metadata": {},
            "source": "**Karl Boggs**  \nData Scientist "
        },
        {
            "cell_type": "markdown",
            "metadata": {},
            "source": "*I am interested in data science as a way of uncovering patterns in varied data sets and using tools to create engaging explanations of phenomena. I hope that I'll be able to leverage my background as a chemical/materials engineer.*"
        },
        {
            "cell_type": "markdown",
            "metadata": {},
            "source": "### My code is to show a Fibonacci sequence"
        },
        {
            "cell_type": "code",
            "execution_count": 3,
            "metadata": {},
            "outputs": [
                {
                    "name": "stdout",
                    "output_type": "stream",
                    "text": "1 :  1\n2 :  2\n3 :  3\n4 :  5\n5 :  8\n6 :  13\n7 :  21\n8 :  34\n9 :  55\n10 :  89\n"
                }
            ],
            "source": "def fibonacci(n):\n    #this calculates the nth term in the sequence\n    a=0\n    b=1\n    for count in range(n+1):\n        n = a+b\n        a=b\n        b=n\n    return(n)\n\n# use the function to calculate the first 10 in the sequence (yes I could have done this without the function)\nfor i in range(10):\n    print(i+1,': ',fibonacci(i))"
        },
        {
            "cell_type": "markdown",
            "metadata": {},
            "source": "___\n##### Working with Markdown:\n\n+ this\n+ is a\n+ bulleted list\n\n1. this\n2. is a\n3. numbered list\n\n| color | season | month |\n| ----- | ------ | ----- |\n| red | fall | October |\n| green | spring | April |\n| blue | winter | January |\n| yellow | summer | July |\n\n[Here is the hyperlink to the Markup cheat sheet](https://github.com/adam-p/markdown-here/wiki/Markdown-Cheatsheet)\n\nPython Logo:  \n![alt text](https://encrypted-tbn0.gstatic.com/images?q=tbn:ANd9GcRyhT_zpUviZWlen__Eotl_-dAwASykcnueiCIeiFbBwberAteFeRRUOaoVqm9d8earbZM&usqp=CAU)\n\nExample code block:\n```\nfor count in range(n+1):\n    n = a+b\n    a=b\n    b=n\nreturn(n)  \n```\n\n> here is a simple block quote with junk filler    \n>Lorem ipsum dolor sit amet, consectetur adipiscing elit, sed do eiusmod tempor incididunt ut labore et dolore magna aliqua. Ut enim ad minim veniam, quis nostrud exercitation ullamco laboris nisi ut aliquip ex ea commodo consequat. Duis aute irure dolor in reprehenderit in voluptate velit esse cillum dolore eu fugiat nulla pariatur. Excepteur sint occaecat cupidatat non proident, sunt in culpa qui officia deserunt mollit anim id est laborum.\n\n~~strikethrough~~"
        },
        {
            "cell_type": "code",
            "execution_count": null,
            "metadata": {},
            "outputs": [],
            "source": ""
        }
    ],
    "metadata": {
        "kernelspec": {
            "display_name": "Python 3.9",
            "language": "python",
            "name": "python3"
        },
        "language_info": {
            "codemirror_mode": {
                "name": "ipython",
                "version": 3
            },
            "file_extension": ".py",
            "mimetype": "text/x-python",
            "name": "python",
            "nbconvert_exporter": "python",
            "pygments_lexer": "ipython3",
            "version": "3.9.13"
        }
    },
    "nbformat": 4,
    "nbformat_minor": 1
}